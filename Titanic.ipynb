{
 "cells": [
  {
   "cell_type": "code",
   "execution_count": 105,
   "metadata": {},
   "outputs": [],
   "source": [
    "import pandas as pd\n",
    "import numpy as np\n",
    "import warnings\n",
    "warnings.filterwarnings(\"ignore\")\n",
    "from sklearn.neural_network import MLPClassifier\n",
    "from sklearn import tree\n",
    "from sklearn.ensemble import RandomForestClassifier\n",
    "from sklearn import tree\n",
    "\n",
    "training_data = pd.read_csv(\"C:/Kalyan/Kaggle/titanic_train.csv\")\n",
    "testing_data = pd.read_csv(\"C:/Kalyan/Kaggle/titanic_test.csv\")\n",
    "df = pd.DataFrame(training_data)\n",
    "df1 = pd.DataFrame(testing_data)\n",
    "df1['Survived'] = 0\n",
    "\n",
    "def convert(df):\n",
    "    df['Cabin'].fillna(\"0\", inplace=True)\n",
    "    df['Embarked'].fillna(\"4\", inplace=True)\n",
    "    class_transform = {\"male\":1, \"female\":2}\n",
    "    df['Sex']=df['Sex'].apply(class_transform.get).astype(int)\n",
    "    class_transform1 = {\"S\":1, \"C\":2,\"Q\":3,\"4\":4}\n",
    "    df['Embarked']=df['Embarked'].apply(class_transform1.get).astype(int)\n",
    "    \n",
    "    df['Cabin_start']=0\n",
    "    df['Cabin_no']=0\n",
    "    df['name_mapping']=0\n",
    "    df['family']=0\n",
    "    for x in range(df.shape[0]):\n",
    "        c=df.loc[x,'Name']\n",
    "        if \"Mr.\" in c:\n",
    "            df.loc[x,'name_mapping']=1\n",
    "        elif \"Miss.\" in c:\n",
    "            df.loc[x,'name_mapping']=2\n",
    "        elif \"Mrs.\" in c:\n",
    "            df.loc[x,'name_mapping']=3\n",
    "        elif \"Master.\" in c:\n",
    "            df.loc[x,'name_mapping']=4\n",
    "        elif \"Rare.\" in c:\n",
    "            df.loc[x,'name_mapping']=5\n",
    "        elif \"Major.\" in c:\n",
    "            df.loc[x,'name_mapping']=6\n",
    "        elif \"Ms.\" in c:\n",
    "            df.loc[x,'name_mapping']=7\n",
    "        elif \"Mlle.\" in c:\n",
    "            df.loc[x,'name_mapping']=8\n",
    "        elif \"Mme.\" in c:\n",
    "            df.loc[x,'name_mapping']=9\n",
    "        elif \"Rev.\" in c:\n",
    "            df.loc[x,'name_mapping']=10\n",
    "        elif \"Dr.\" in c:\n",
    "            df.loc[x,'name_mapping']=11\n",
    "        elif \"Col.\" in c:\n",
    "            df.loc[x,'name_mapping']=12\n",
    "        elif \"Capt.\" in c:\n",
    "            df.loc[x,'name_mapping']=13\n",
    "        elif \"Countess\" in c:\n",
    "            df.loc[x,'name_mapping']=14\n",
    "        elif \"Don\" in c:\n",
    "            df.loc[x,'name_mapping']=15\n",
    "        elif \"Jonkheer\" in c:\n",
    "            df.loc[x,'name_mapping']=16\n",
    "        \n",
    "        if df.loc[x,'SibSp']+df.loc[x,'Parch']>0:\n",
    "            df.loc[x,'family']=1\n",
    "        \n",
    "        c=df.loc[x,'Cabin']\n",
    "        if c==\"0\":\n",
    "            continue\n",
    "\n",
    "        df.loc[x,'Cabin_start']=ord(c[0])-64\n",
    "\n",
    "        count=0\n",
    "        for y in range(len(c)):\n",
    "            if c[0]==c[y]:\n",
    "                count=count+1\n",
    "\n",
    "        df.loc[x,'Cabin_no']=count\n",
    "        \n",
    "    \n",
    "    df=df[['PassengerId', 'Survived', 'Pclass', 'Sex', 'Age', 'Fare', 'Embarked', 'Cabin_start', 'Cabin_no','name_mapping','family']]\n",
    "    df.Fare.fillna(-10, inplace=True)\n",
    "    df.Age.fillna(-15, inplace=True)\n",
    "    df.fillna(0, inplace=True)\n",
    "    df.Fare=df.Fare.astype(int)\n",
    "    df.Age=df.Age.astype(int)\n",
    "    df['Fare']=df['Fare']//10+1\n",
    "    df['Age']=df['Age']//15+1\n",
    "    \n",
    "    return df\n",
    "\n",
    "df=convert(df)\n",
    "df1=convert(df1)"
   ]
  },
  {
   "cell_type": "code",
   "execution_count": 106,
   "metadata": {},
   "outputs": [
    {
     "name": "stdout",
     "output_type": "stream",
     "text": [
      "536\n",
      "54\n",
      "48\n",
      "253\n",
      "Accuracy : 87.99102132435466\n"
     ]
    }
   ],
   "source": [
    "list1=['Pclass', 'Sex', 'Age', 'Fare', 'Embarked', 'Cabin_no','name_mapping','family']\n",
    "model = MLPClassifier(solver='lbfgs', hidden_layer_sizes=(10,10), activation='logistic',random_state=110)\n",
    "model1 = RandomForestClassifier(n_estimators=100)\n",
    "model2 = tree.DecisionTreeClassifier(max_depth=5)\n",
    "model.fit(df[list1],df[['Survived']])\n",
    "model1.fit(df[list1],df[['Survived']])\n",
    "model2.fit(df[list1],df[['Survived']])\n",
    "df['predict']=model.predict(df[list1])+model1.predict(df[list1])+model2.predict(df[list1])\n",
    "\n",
    "print(df[df['predict']==0].shape[0])\n",
    "print(df[df['predict']==1].shape[0])\n",
    "print(df[df['predict']==2].shape[0])\n",
    "print(df[df['predict']==3].shape[0])\n",
    "\n",
    "for x in range(df.shape[0]):\n",
    "    if df.loc[x,'predict']>1:\n",
    "        df.loc[x,'predict']=1\n",
    "    else:\n",
    "        df.loc[x,'predict']=0\n",
    "\n",
    "print(\"Accuracy : \"+str(df[df['Survived']==df['predict']].shape[0]*100/df.shape[0]))"
   ]
  },
  {
   "cell_type": "code",
   "execution_count": 107,
   "metadata": {
    "collapsed": true
   },
   "outputs": [],
   "source": [
    "df1['Survived']=model.predict(df1[list1])\n",
    "\n",
    "df1[['PassengerId','Survived']].to_csv(\"C:/Kalyan/Kaggle/predict.csv\", encoding='utf-8', index=False)"
   ]
  },
  {
   "cell_type": "code",
   "execution_count": 87,
   "metadata": {},
   "outputs": [
    {
     "data": {
      "text/plain": [
       "109"
      ]
     },
     "execution_count": 87,
     "metadata": {},
     "output_type": "execute_result"
    }
   ],
   "source": [
    "df[df['Sex']==0][df['Survived']==1].shape[0]"
   ]
  },
  {
   "cell_type": "code",
   "execution_count": null,
   "metadata": {},
   "outputs": [],
   "source": []
  }
 ],
 "metadata": {
  "kernelspec": {
   "display_name": "Python 3",
   "language": "python",
   "name": "python3"
  },
  "language_info": {
   "codemirror_mode": {
    "name": "ipython",
    "version": 3
   },
   "file_extension": ".py",
   "mimetype": "text/x-python",
   "name": "python",
   "nbconvert_exporter": "python",
   "pygments_lexer": "ipython3",
   "version": "3.6.3"
  }
 },
 "nbformat": 4,
 "nbformat_minor": 2
}
